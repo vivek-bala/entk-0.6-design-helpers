{
 "cells": [
  {
   "cell_type": "code",
   "execution_count": 1,
   "metadata": {
    "collapsed": false,
    "deletable": true,
    "editable": true
   },
   "outputs": [
    {
     "name": "stdout",
     "output_type": "stream",
     "text": [
      "Using matplotlib backend: TkAgg\n"
     ]
    }
   ],
   "source": [
    "# Imports\n",
    "import pandas as pd\n",
    "import matplotlib.pyplot as plt\n",
    "from mpl_toolkits.mplot3d import Axes3D\n",
    "from matplotlib import cm\n",
    "import numpy as np\n",
    "import matplotlib.ticker as mticker\n",
    "\n",
    "\n",
    "# Settings\n",
    "FONTSIZE=18\n",
    "LABELPAD=18\n",
    "TICKPAD=8\n",
    "\n",
    "\n",
    "%matplotlib"
   ]
  },
  {
   "cell_type": "raw",
   "metadata": {
    "deletable": true,
    "editable": true
   },
   "source": []
  },
  {
   "cell_type": "code",
   "execution_count": 2,
   "metadata": {
    "collapsed": false,
    "deletable": true,
    "editable": true
   },
   "outputs": [
    {
     "name": "stdout",
     "output_type": "stream",
     "text": [
      "     tasks  stages  pipelines        cpu    memory\n",
      "0        1       1          1   0.000543     0.003\n",
      "1       10       1          1   0.000458     0.017\n",
      "2      100       1          1   0.004154     0.159\n",
      "3     1000       1          1   0.037974     1.536\n",
      "4    10000       1          1   0.297402    15.531\n",
      "5   100000       1          1   3.147311   154.300\n",
      "6  1000000       1          1  32.636946  1534.992\n"
     ]
    }
   ],
   "source": [
    "FONTSIZE=18\n",
    "\n",
    "#x, y = np.meshgrid(num_tasks, num_stages)\n",
    "#x = np.log10(x)\n",
    "#y = np.log10(y)\n",
    "\n",
    "df = pd.read_csv('separate_data_objects/monitor_task_variation.csv', skipinitialspace=True)\n",
    "\n",
    "num_pipes = 1\n",
    "num_stages = 1\n",
    "num_tasks = [1,10,100,1000,10000,100000,1000000] \n",
    "\n",
    "print df\n",
    "fig,axes = plt.subplots(2,1)\n",
    "\n",
    "df.plot(ax=axes[0], x=['tasks'], y = ['cpu'], loglog=True)\n",
    "axes[0].set_ylabel('CPU consumption (seconds)', fontsize=FONTSIZE, labelpad=LABELPAD)\n",
    "axes[0].set_xlabel('')\n",
    "for tick in axes[0].yaxis.get_major_ticks():\n",
    "    tick.label.set_fontsize(FONTSIZE)\n",
    "for tick in axes[0].xaxis.get_major_ticks():\n",
    "    tick.label.set_fontsize(FONTSIZE)\n",
    "    \n",
    "df.plot(ax=axes[1], x=['tasks'], y = ['memory'], loglog=True)\n",
    "axes[1].set_ylabel('Memory consumption (MB)', fontsize=FONTSIZE,labelpad=LABELPAD)\n",
    "axes[1].set_xlabel('Tasks per stage', fontsize=FONTSIZE, labelpad=LABELPAD)\n",
    "for tick in axes[1].yaxis.get_major_ticks():\n",
    "    tick.label.set_fontsize(FONTSIZE)\n",
    "for tick in axes[1].xaxis.get_major_ticks():\n",
    "    tick.label.set_fontsize(FONTSIZE)\n",
    "    \n",
    "    \n",
    "axes[0].set_title('Memory + CPU consumption as a function of tasks(Pipelines = 1, Stages=1)', fontsize=FONTSIZE)\n",
    "fig.set_size_inches(18.5, 10.5)\n",
    "plt.savefig('separate_data_objects/plot_task_variation.pdf')"
   ]
  },
  {
   "cell_type": "code",
   "execution_count": 3,
   "metadata": {
    "collapsed": false,
    "deletable": true,
    "editable": true
   },
   "outputs": [],
   "source": [
    "FONTSIZE=18\n",
    "\n",
    "#x, y = np.meshgrid(num_tasks, num_stages)\n",
    "#x = np.log10(x)\n",
    "#y = np.log10(y)\n",
    "\n",
    "df = pd.read_csv('separate_data_objects/monitor_stage_variation.csv', skipinitialspace=True)\n",
    "\n",
    "fig,axes = plt.subplots(2,1)\n",
    "\n",
    "df.plot(ax=axes[0], x=['stages'], y = ['cpu'], loglog=True)\n",
    "axes[0].set_ylabel('CPU consumption (seconds)', fontsize=FONTSIZE, labelpad=LABELPAD)\n",
    "axes[0].set_xlabel('')\n",
    "for tick in axes[0].yaxis.get_major_ticks():\n",
    "    tick.label.set_fontsize(FONTSIZE)\n",
    "for tick in axes[0].xaxis.get_major_ticks():\n",
    "    tick.label.set_fontsize(FONTSIZE)\n",
    "    \n",
    "df.plot(ax=axes[1], x=['stages'], y = ['memory'], loglog=True)\n",
    "axes[1].set_ylabel('Memory consumption (MB)', fontsize=FONTSIZE,labelpad=LABELPAD)\n",
    "axes[1].set_xlabel('Stages per pipeline', fontsize=FONTSIZE, labelpad=LABELPAD)\n",
    "for tick in axes[1].yaxis.get_major_ticks():\n",
    "    tick.label.set_fontsize(FONTSIZE)\n",
    "for tick in axes[1].xaxis.get_major_ticks():\n",
    "    tick.label.set_fontsize(FONTSIZE)\n",
    "    \n",
    "    \n",
    "axes[0].set_title('Memory + CPU consumption as a function of stages(Pipelines = 1, Tasks per stage =1)', fontsize=FONTSIZE)\n",
    "fig.set_size_inches(18.5, 10.5)\n",
    "plt.savefig('separate_data_objects/plot_stage_variation.pdf')"
   ]
  },
  {
   "cell_type": "code",
   "execution_count": 4,
   "metadata": {
    "collapsed": true,
    "deletable": true,
    "editable": true
   },
   "outputs": [],
   "source": [
    "\n",
    "FONTSIZE=18\n",
    "\n",
    "#x, y = np.meshgrid(num_tasks, num_stages)\n",
    "#x = np.log10(x)\n",
    "#y = np.log10(y)\n",
    "\n",
    "df = pd.read_csv('separate_data_objects/monitor_pipeline_variation.csv', skipinitialspace=True)\n",
    "\n",
    "fig,axes = plt.subplots(2,1)\n",
    "\n",
    "df.plot(ax=axes[0], x=['pipelines'], y = ['cpu'], loglog=True)\n",
    "axes[0].set_ylabel('CPU consumption (seconds)', fontsize=FONTSIZE, labelpad=LABELPAD)\n",
    "axes[0].set_xlabel('')\n",
    "for tick in axes[0].yaxis.get_major_ticks():\n",
    "    tick.label.set_fontsize(FONTSIZE)\n",
    "for tick in axes[0].xaxis.get_major_ticks():\n",
    "    tick.label.set_fontsize(FONTSIZE)\n",
    "    \n",
    "df.plot(ax=axes[1], x=['pipelines'], y = ['memory'], loglog=True)\n",
    "axes[1].set_ylabel('Memory consumption (MB)', fontsize=FONTSIZE,labelpad=LABELPAD)\n",
    "axes[1].set_xlabel('Pipelines', fontsize=FONTSIZE, labelpad=LABELPAD)\n",
    "for tick in axes[1].yaxis.get_major_ticks():\n",
    "    tick.label.set_fontsize(FONTSIZE)\n",
    "for tick in axes[1].xaxis.get_major_ticks():\n",
    "    tick.label.set_fontsize(FONTSIZE)\n",
    "    \n",
    "    \n",
    "axes[0].set_title('Memory + CPU consumption as a function of pipelines(Stages=1, Tasks per stage =1)', fontsize=FONTSIZE)\n",
    "fig.set_size_inches(18.5, 10.5)\n",
    "plt.savefig('separate_data_objects/plot_pipeline_variation.pdf')"
   ]
  },
  {
   "cell_type": "code",
   "execution_count": null,
   "metadata": {
    "collapsed": true,
    "deletable": true,
    "editable": true
   },
   "outputs": [],
   "source": []
  }
 ],
 "metadata": {
  "kernelspec": {
   "display_name": "Python 2",
   "language": "python",
   "name": "python2"
  },
  "language_info": {
   "codemirror_mode": {
    "name": "ipython",
    "version": 2
   },
   "file_extension": ".py",
   "mimetype": "text/x-python",
   "name": "python",
   "nbconvert_exporter": "python",
   "pygments_lexer": "ipython2",
   "version": "2.7.12"
  }
 },
 "nbformat": 4,
 "nbformat_minor": 1
}
