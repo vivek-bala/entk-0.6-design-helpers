{
 "cells": [
  {
   "cell_type": "code",
   "execution_count": 2,
   "metadata": {
    "collapsed": false,
    "deletable": true,
    "editable": true
   },
   "outputs": [
    {
     "name": "stdout",
     "output_type": "stream",
     "text": [
      "Using matplotlib backend: TkAgg\n"
     ]
    }
   ],
   "source": [
    "# Imports\n",
    "import pandas as pd\n",
    "import matplotlib.pyplot as plt\n",
    "from mpl_toolkits.mplot3d import Axes3D\n",
    "from matplotlib import cm\n",
    "import numpy as np\n",
    "import matplotlib.ticker as mticker\n",
    "\n",
    "# Settings\n",
    "FONTSIZE=18\n",
    "LABELPAD=18\n",
    "TICKPAD=8\n",
    "\n",
    "%matplotlib"
   ]
  },
  {
   "cell_type": "raw",
   "metadata": {
    "deletable": true,
    "editable": true
   },
   "source": []
  },
  {
   "cell_type": "code",
   "execution_count": 53,
   "metadata": {
    "collapsed": false,
    "deletable": true,
    "editable": true
   },
   "outputs": [
    {
     "name": "stdout",
     "output_type": "stream",
     "text": [
      "       Tasks  CPU-references  CPU-objects  Memory-references  Memory-objects\n",
      "0        1.0        0.000013     0.000543              0.001           0.003\n",
      "1       10.0        0.000030     0.000458              0.001           0.017\n",
      "2      100.0        0.000076     0.004154              0.008           0.159\n",
      "3     1000.0        0.000553     0.037974              0.032           1.536\n",
      "4    10000.0        0.006655     0.297402              0.501          15.531\n",
      "5   100000.0        0.064777     3.147311              4.001         154.300\n",
      "6  1000000.0        0.869342    32.636946             32.001        1534.992\n"
     ]
    }
   ],
   "source": [
    "FONTSIZE=18\n",
    "\n",
    "df_ref = pd.read_csv('../separate_data_references/monitor_task_variation.csv', skipinitialspace=True)\n",
    "df_obj = pd.read_csv('../separate_data_objects/monitor_task_variation.csv', skipinitialspace=True)\n",
    "\n",
    "num_pipes = 1\n",
    "num_stages = 1\n",
    "num_tasks = [1,10,100,1000,10000,100000,1000000] \n",
    "\n",
    "df = pd.DataFrame(columns=['Tasks','CPU-references','CPU-objects','Memory-references','Memory-objects'])\n",
    "cnt=0\n",
    "for tasks in num_tasks:\n",
    "\n",
    "    cpu_ref = df_ref.loc[df_ref['tasks'] == tasks]['cpu'][cnt]\n",
    "    cpu_obj = df_obj.loc[df_obj['tasks'] == tasks]['cpu'][cnt]\n",
    "    mem_ref = df_ref.loc[df_ref['tasks'] == tasks]['memory'][cnt]\n",
    "    mem_obj = df_obj.loc[df_obj['tasks'] == tasks]['memory'][cnt]\n",
    "    \n",
    "    df.loc[cnt] = [tasks,\n",
    "               cpu_ref,\n",
    "               cpu_obj,\n",
    "               mem_ref,\n",
    "               mem_obj]\n",
    "    \n",
    "    cnt+=1\n",
    "    \n",
    "print df\n",
    "\n",
    "fig,axes = plt.subplots(2,1)\n",
    "\n",
    "df.plot(ax=axes[0], x=['Tasks'], y = ['CPU-references','CPU-objects'], loglog=True)\n",
    "axes[0].set_ylabel('CPU consumption (seconds)', fontsize=FONTSIZE, labelpad=LABELPAD)\n",
    "axes[0].set_xlabel('')\n",
    "for tick in axes[0].yaxis.get_major_ticks():\n",
    "    tick.label.set_fontsize(FONTSIZE)\n",
    "for tick in axes[0].xaxis.get_major_ticks():\n",
    "    tick.label.set_fontsize(FONTSIZE)\n",
    "\n",
    "lines, labels = axes[0].get_legend_handles_labels()\n",
    "axes[0].legend(lines, labels, loc='best', fontsize=FONTSIZE)\n",
    "\n",
    "df.plot(ax=axes[1], x=['Tasks'], y = ['Memory-references','Memory-objects'], loglog=True)\n",
    "axes[1].set_ylabel('Memory consumption (MB)', fontsize=FONTSIZE,labelpad=LABELPAD)\n",
    "axes[1].set_xlabel('Tasks per stage', fontsize=FONTSIZE, labelpad=LABELPAD)\n",
    "for tick in axes[1].yaxis.get_major_ticks():\n",
    "    tick.label.set_fontsize(FONTSIZE)\n",
    "for tick in axes[1].xaxis.get_major_ticks():\n",
    "    tick.label.set_fontsize(FONTSIZE)\n",
    "    \n",
    "lines, labels = axes[1].get_legend_handles_labels()\n",
    "axes[1].legend(lines, labels, loc='best', fontsize=FONTSIZE)\n",
    "    \n",
    "axes[0].set_title('Memory + CPU consumption as a function of tasks(Pipelines = 1, Stages per pipeline=1)', fontsize=FONTSIZE)\n",
    "fig.set_size_inches(18.5, 10.5)\n",
    "plt.savefig('plot_comparison_task_variation.pdf')\n"
   ]
  },
  {
   "cell_type": "code",
   "execution_count": null,
   "metadata": {
    "collapsed": true
   },
   "outputs": [],
   "source": []
  },
  {
   "cell_type": "code",
   "execution_count": 54,
   "metadata": {
    "collapsed": false,
    "deletable": true,
    "editable": true
   },
   "outputs": [
    {
     "name": "stdout",
     "output_type": "stream",
     "text": [
      "      Stages  CPU-references  CPU-objects  Memory-references  Memory-objects\n",
      "0        1.0        0.000513     0.000514              0.001           0.003\n",
      "1       10.0        0.000473     0.000545              0.003           0.018\n",
      "2      100.0        0.003932     0.004691              0.028           0.174\n",
      "3     1000.0        0.035951     0.042584              0.275           1.733\n",
      "4    10000.0        0.247115     0.314684              2.747          17.320\n",
      "5   100000.0        2.474696     3.344000             27.466         173.188\n",
      "6  1000000.0       25.676576    34.668696            274.658        1731.874\n"
     ]
    }
   ],
   "source": [
    "FONTSIZE=18\n",
    "\n",
    "df_ref = pd.read_csv('../separate_data_references/monitor_stage_variation.csv', skipinitialspace=True)\n",
    "df_obj = pd.read_csv('../separate_data_objects/monitor_stage_variation.csv', skipinitialspace=True)\n",
    "\n",
    "num_pipes = 1\n",
    "num_stages = [1,10,100,1000,10000,100000,1000000]\n",
    "num_tasks = 1 \n",
    "\n",
    "df = pd.DataFrame(columns=['Stages','CPU-references','CPU-objects','Memory-references','Memory-objects'])\n",
    "cnt=0\n",
    "for stages in num_stages:\n",
    "\n",
    "    cpu_ref = df_ref.loc[df_ref['stages'] == stages]['cpu'][cnt]\n",
    "    cpu_obj = df_obj.loc[df_obj['stages'] == stages]['cpu'][cnt]\n",
    "    mem_ref = df_ref.loc[df_ref['stages'] == stages]['memory'][cnt]\n",
    "    mem_obj = df_obj.loc[df_obj['stages'] == stages]['memory'][cnt]\n",
    "    \n",
    "    df.loc[cnt] = [stages,\n",
    "               cpu_ref,\n",
    "               cpu_obj,\n",
    "               mem_ref,\n",
    "               mem_obj]\n",
    "    \n",
    "    cnt+=1\n",
    "    \n",
    "print df\n",
    "\n",
    "fig,axes = plt.subplots(2,1)\n",
    "\n",
    "df.plot(ax=axes[0], x=['Stages'], y = ['CPU-references','CPU-objects'], loglog=True)\n",
    "axes[0].set_ylabel('CPU consumption (seconds)', fontsize=FONTSIZE, labelpad=LABELPAD)\n",
    "axes[0].set_xlabel('')\n",
    "for tick in axes[0].yaxis.get_major_ticks():\n",
    "    tick.label.set_fontsize(FONTSIZE)\n",
    "for tick in axes[0].xaxis.get_major_ticks():\n",
    "    tick.label.set_fontsize(FONTSIZE)\n",
    "    \n",
    "lines, labels = axes[0].get_legend_handles_labels()\n",
    "axes[0].legend(lines, labels, loc='best', fontsize=FONTSIZE)\n",
    "    \n",
    "df.plot(ax=axes[1], x=['Stages'], y = ['Memory-references','Memory-objects'], loglog=True)\n",
    "axes[1].set_ylabel('Memory consumption (MB)', fontsize=FONTSIZE,labelpad=LABELPAD)\n",
    "axes[1].set_xlabel('Stages per pipeline', fontsize=FONTSIZE, labelpad=LABELPAD)\n",
    "for tick in axes[1].yaxis.get_major_ticks():\n",
    "    tick.label.set_fontsize(FONTSIZE)\n",
    "for tick in axes[1].xaxis.get_major_ticks():\n",
    "    tick.label.set_fontsize(FONTSIZE)\n",
    "    \n",
    "lines, labels = axes[1].get_legend_handles_labels()\n",
    "axes[1].legend(lines, labels, loc='best', fontsize=FONTSIZE)\n",
    "    \n",
    "axes[0].set_title('Memory + CPU consumption as a function of stages(Pipelines = 1, Tasks per stage=1)', fontsize=FONTSIZE)\n",
    "fig.set_size_inches(18.5, 10.5)\n",
    "plt.savefig('plot_comparison_stage_variation.pdf')"
   ]
  },
  {
   "cell_type": "code",
   "execution_count": 55,
   "metadata": {
    "collapsed": false,
    "deletable": true,
    "editable": true
   },
   "outputs": [
    {
     "name": "stdout",
     "output_type": "stream",
     "text": [
      "   Pipelines  CPU-references  CPU-objects  Memory-references  Memory-objects\n",
      "0        1.0        0.000015     0.000520              0.001           0.003\n",
      "1       10.0        0.000039     0.000508              0.004           0.019\n",
      "2      100.0        0.000371     0.004894              0.036           0.187\n",
      "3     1000.0        0.003510     0.044094              0.314           1.818\n",
      "4    10000.0        0.031594     0.328886              3.323          18.354\n",
      "5   100000.0        0.232735     3.693597             32.229         182.529\n",
      "6  1000000.0        3.378217    36.820729            314.288        1817.279\n"
     ]
    }
   ],
   "source": [
    "FONTSIZE=18\n",
    "\n",
    "df_ref = pd.read_csv('../separate_data_references/monitor_pipeline_variation.csv', skipinitialspace=True)\n",
    "df_obj = pd.read_csv('../separate_data_objects/monitor_pipeline_variation.csv', skipinitialspace=True)\n",
    "\n",
    "num_pipes = [1,10,100,1000,10000,100000,1000000]\n",
    "num_stages = 1\n",
    "num_tasks = 1 \n",
    "\n",
    "df = pd.DataFrame(columns=['Pipelines','CPU-references','CPU-objects','Memory-references','Memory-objects'])\n",
    "cnt=0\n",
    "for pipes in num_pipes:\n",
    "\n",
    "    cpu_ref = df_ref.loc[df_ref['pipelines'] == pipes]['cpu'][cnt]\n",
    "    cpu_obj = df_obj.loc[df_obj['pipelines'] == pipes]['cpu'][cnt]\n",
    "    mem_ref = df_ref.loc[df_ref['pipelines'] == pipes]['memory'][cnt]\n",
    "    mem_obj = df_obj.loc[df_obj['pipelines'] == pipes]['memory'][cnt]\n",
    "    \n",
    "    df.loc[cnt] = [pipes,\n",
    "               cpu_ref,\n",
    "               cpu_obj,\n",
    "               mem_ref,\n",
    "               mem_obj]\n",
    "    \n",
    "    cnt+=1\n",
    "    \n",
    "print df\n",
    "\n",
    "fig,axes = plt.subplots(2,1)\n",
    "\n",
    "df.plot(ax=axes[0], x=['Pipelines'], y = ['CPU-references','CPU-objects'], loglog=True)\n",
    "axes[0].set_ylabel('CPU consumption (seconds)', fontsize=FONTSIZE, labelpad=LABELPAD)\n",
    "axes[0].set_xlabel('')\n",
    "for tick in axes[0].yaxis.get_major_ticks():\n",
    "    tick.label.set_fontsize(FONTSIZE)\n",
    "for tick in axes[0].xaxis.get_major_ticks():\n",
    "    tick.label.set_fontsize(FONTSIZE)\n",
    "\n",
    "lines, labels = axes[0].get_legend_handles_labels()\n",
    "axes[0].legend(lines, labels, loc='best', fontsize=FONTSIZE)\n",
    "    \n",
    "df.plot(ax=axes[1], x=['Pipelines'], y = ['Memory-references','Memory-objects'], loglog=True)\n",
    "axes[1].set_ylabel('Memory consumption (MB)', fontsize=FONTSIZE,labelpad=LABELPAD)\n",
    "axes[1].set_xlabel('Pipelines', fontsize=FONTSIZE, labelpad=LABELPAD)\n",
    "for tick in axes[1].yaxis.get_major_ticks():\n",
    "    tick.label.set_fontsize(FONTSIZE)\n",
    "for tick in axes[1].xaxis.get_major_ticks():\n",
    "    tick.label.set_fontsize(FONTSIZE)\n",
    "    \n",
    "lines, labels = axes[1].get_legend_handles_labels()\n",
    "axes[1].legend(lines, labels, loc='best', fontsize=FONTSIZE)\n",
    "    \n",
    "axes[0].set_title('Memory + CPU consumption as a function of pipelines(Stages per pipeline = 1, Tasks per stage=1)', fontsize=FONTSIZE)\n",
    "fig.set_size_inches(18.5, 10.5)\n",
    "plt.savefig('plot_comparison_pipelines_variation.pdf')"
   ]
  },
  {
   "cell_type": "code",
   "execution_count": null,
   "metadata": {
    "collapsed": true,
    "deletable": true,
    "editable": true
   },
   "outputs": [],
   "source": []
  }
 ],
 "metadata": {
  "kernelspec": {
   "display_name": "Python 2",
   "language": "python",
   "name": "python2"
  },
  "language_info": {
   "codemirror_mode": {
    "name": "ipython",
    "version": 2
   },
   "file_extension": ".py",
   "mimetype": "text/x-python",
   "name": "python",
   "nbconvert_exporter": "python",
   "pygments_lexer": "ipython2",
   "version": "2.7.12"
  }
 },
 "nbformat": 4,
 "nbformat_minor": 1
}
